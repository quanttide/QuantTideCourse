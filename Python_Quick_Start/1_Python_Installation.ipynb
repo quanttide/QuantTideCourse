{
 "cells": [
  {
   "cell_type": "markdown",
   "metadata": {},
   "source": [
    "# Python快速入门（一）：安装Python\n",
    "\n",
    "## 本讲概要\n",
    "\n",
    "在学习Python之前，我们首先安装和配置一下Python的开发环境。安装Python看似简单，却经常困扰绝大多数新手，即使是老手也有可能陷入一些不知名的暗坑中。在本讲中，我们介绍最不需要踩坑的方案——安装Anaconda。这个方案几乎可以避开大部分安装和配置开发环境问题。其他可选的方案我们会在之后的课程中专门介绍，等你对编程知识有了初步的了解以后再深入学习。\n",
    "（TODO，还需要修改措辞）\n",
    "\n",
    "## 安装Anaconda\n",
    "\n",
    "第一步，在搜索引擎里搜索“Anaconda”，点击跳出来的网址即可。\n",
    "\n",
    "这是百度的结果，会直接把Download页面排在最前面，直接点击即可。\n",
    "\n",
    "这是Bing的结果，会把Anaconda的主页放在最前面，我们打开并且点击右上角的Download页面。\n",
    "\n",
    "这是Google的结果，它的第一页没有任何我们想要的信息。\n",
    "\n",
    "或者直接输入或者点击网址 https://www.anaconda.com/downloads 也可以。\n",
    "\n",
    "你还可以关注微信公众号“量潮科技”，回复“Anaconda”，也可以获得这个链接。\n",
    "\n",
    "第二步，我们把网页往下拉，可以看到明显的下载按钮。\n",
    "\n",
    "选择对应的操作系统，并且选择需要的版本下载即可。这里我们选择3.6版本的，因为现在大的趋势是用3.x版本。我们会在教程中以3.6为主，同时也会在必要的时候提到2.7版本的操作。\n",
    "\n",
    "第三步，点击安装包，按照默认设置下载即可。\n",
    "\n",
    "这是Mac系统的安装界面。\n",
    "\n",
    "这是Windows系统的安装界面。"
   ]
  },
  {
   "cell_type": "code",
   "execution_count": null,
   "metadata": {
    "collapsed": true
   },
   "outputs": [],
   "source": []
  }
 ],
 "metadata": {
  "kernelspec": {
   "display_name": "Python 3",
   "language": "python",
   "name": "python3"
  },
  "language_info": {
   "codemirror_mode": {
    "name": "ipython",
    "version": 3
   },
   "file_extension": ".py",
   "mimetype": "text/x-python",
   "name": "python",
   "nbconvert_exporter": "python",
   "pygments_lexer": "ipython3",
   "version": "3.7.3"
  }
 },
 "nbformat": 4,
 "nbformat_minor": 2
}
